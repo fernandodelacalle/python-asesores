{
 "cells": [
  {
   "cell_type": "markdown",
   "metadata": {},
   "source": [
    "# 1.0. Instalación Python"
   ]
  },
  {
   "cell_type": "markdown",
   "metadata": {},
   "source": [
    "\n",
    "\n",
    "\n",
    "- Opción fácil desde Anconda.\n",
    "-https://www.anaconda.com/distribution/\n",
    "- IMPORTANTE: si te pregunta qué navegador usar, selecciona Chrome. Si te equivocas, tendrás que cambiar el navegador predeterminado: panel de control / navegador / cambiar navegador predeterminado\n",
    " \n",
    "<center>\n",
    "<img src=\"./imgs/anaconda.png\"  alt=\"drawing\" width=\"500\"/>\n",
    "</center>\n",
    "\n",
    "<center>\n",
    "<img src=\"./imgs/anaconda_nav.png\"  alt=\"drawing\" width=\"700\"/>\n",
    "</center>\n",
    "\n",
    "- Desde Python Software Foundation: Versión 3.6 o 3.7\n",
    " - https://www.python.org/downloads/\n",
    "<center>\n",
    "<img src=\"./imgs/python_web.png\"  alt=\"drawing\" width=\"500\"/>\n",
    "</center>"
   ]
  }
 ],
 "metadata": {
  "kernelspec": {
   "display_name": "Python 3",
   "language": "python",
   "name": "python3"
  },
  "language_info": {
   "codemirror_mode": {
    "name": "ipython",
    "version": 3
   },
   "file_extension": ".py",
   "mimetype": "text/x-python",
   "name": "python",
   "nbconvert_exporter": "python",
   "pygments_lexer": "ipython3",
   "version": "3.7.7"
  }
 },
 "nbformat": 4,
 "nbformat_minor": 4
}
