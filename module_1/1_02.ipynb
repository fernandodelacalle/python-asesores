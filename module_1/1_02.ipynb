{
 "cells": [
  {
   "cell_type": "markdown",
   "metadata": {},
   "source": [
    "#  1.2. Sintaxis básica, operaciones y tipos básicos\n",
    "\n",
    "- Python es lenguaje no tipado (no hay que definir el tipo de variable, las variables pueden cambiar de naturaleza)\n",
    "\n",
    "- Python es un lenguaje interpretado. En los lenguajes compilados le damos el código al compilador, antes de ejecutarlo, generando un ejecutable de código máquina (ands y ors en binario). Los lenguajes interpretados no necesitan compilar. EL interpretre de Python, cuando le llega una línea nueva, la transforma y la ejecuta. Este proceso es más lento que los lenguajes compilados. Las librerías que vamos a usar, por ejemplo numpy, están hechas en C (en lenguajes compilados). \n",
    "\n",
    "- Python es un lenguaje orientado a objetos (permite mantener estados, e invocar métodos). Habrá una clase entera para profundizar en esta forma de programar.\n",
    "- En Python **TODO** es un objeto: números, listas, funciones,... etc\n",
    "\n",
    "\n",
    "##  Syntaxis básica\n",
    "Las reglas básicas son las siguientes:\n",
    "* Los espacios cuentan. No se permiten espacios en el principio de la línea, la indentación juega un papel muy importante en Python. A diferencia de R, donde los bucles están definidos por llaves, en Python es la identación la que indica pertenencia. Lo veremos más adelante. Por ahora asegúrate de que el código empieza en el principio de la línea.\n",
    "* El carácter  '#' indica que el resto de la línea es un comentario.\n",
    "* Las instrucciones terminan al final de la línea, excepto cuando tenemos un paréntesis o corchete abierto\n",
    "* Single backslash al final indica que la línea esta incompleta y sigue en la siguiente:\n",
    "```python\n",
    "1 + \\\n",
    "   2 + 3 # this is OK\n",
    "```"
   ]
  },
  {
   "cell_type": "code",
   "execution_count": null,
   "metadata": {},
   "outputs": [],
   "source": [
    "1 + 2 + 3"
   ]
  },
  {
   "cell_type": "code",
   "execution_count": null,
   "metadata": {},
   "outputs": [],
   "source": [
    "x = 1 + 2 + 3"
   ]
  },
  {
   "cell_type": "code",
   "execution_count": null,
   "metadata": {},
   "outputs": [],
   "source": [
    "# Si queremos sumar 1 + 2 + 3, todos los números deben estar en la misma línea (en una celda no da error, pero en un fichero .py daría error al ejecutarse)\n",
    "\n",
    "1 + 2\n",
    "+3"
   ]
  },
  {
   "cell_type": "code",
   "execution_count": null,
   "metadata": {},
   "outputs": [],
   "source": [
    "# O podemos indicar que la instrucción no ha terminado, usando la barra\n",
    "\n",
    "1 + 2 \\\n",
    "+ 3"
   ]
  },
  {
   "cell_type": "code",
   "execution_count": null,
   "metadata": {},
   "outputs": [],
   "source": [
    "# O usando paréntesis\n",
    "\n",
    "(1 + 2\n",
    "+ 3)"
   ]
  },
  {
   "cell_type": "markdown",
   "metadata": {},
   "source": [
    "Por PEP8, las líneas no deberían superar los 78 caracteres"
   ]
  },
  {
   "cell_type": "markdown",
   "metadata": {},
   "source": [
    "### Comentarios\n",
    "Los comentarios son líneas de texto que se pueden introducir en el código: \n",
    "- Para introducir un comentario en el código de Python, se inserta un \"#\" antes del texto que no queremos evaluar.\n",
    "- Se pueden comentar líneas completas (carácter \"#\" al principio de la línea) o líneas parciales (se evaluará todo hasta el carácter \"#\").\n",
    "- Una vez introducido el carácter \"#\", el comentario llegará hasta el final de la línea.\n",
    "- Para comentar la ayuda de una función se puede utilizar: \"\"\"comentario\"\"\"\n",
    "- Por PEP8 se deja un espacio después de \"#\"."
   ]
  },
  {
   "cell_type": "code",
   "execution_count": null,
   "metadata": {},
   "outputs": [],
   "source": [
    "# Comentario"
   ]
  },
  {
   "cell_type": "code",
   "execution_count": null,
   "metadata": {},
   "outputs": [],
   "source": [
    "\"\"\"\n",
    "Ayuda a la función\n",
    "\n",
    "Puedes escribir tantas líneas como necesites\n",
    "\n",
    "\"\"\""
   ]
  },
  {
   "cell_type": "markdown",
   "metadata": {},
   "source": [
    "### Ayuda"
   ]
  },
  {
   "cell_type": "markdown",
   "metadata": {},
   "source": [
    "- Python tiene una ayuda integrada. \n",
    "- Se ejecuta con **help()** pasando **help(x)** cualquier objeto, variable, librería **x**"
   ]
  },
  {
   "cell_type": "code",
   "execution_count": null,
   "metadata": {},
   "outputs": [],
   "source": [
    "help() # Abre una barra de búsqueda interactiva (recuerda dar al stop)"
   ]
  },
  {
   "cell_type": "code",
   "execution_count": null,
   "metadata": {},
   "outputs": [],
   "source": [
    "# Todo son objetos, hasta los números\n",
    "# Si pedimos ayuda sobre el número 5, nos indicará que es un objeto tipo integer\n",
    "# Y nos indicará los métodos (funciones), que podemos aplicarle\n",
    "\n",
    "help(5)"
   ]
  },
  {
   "cell_type": "code",
   "execution_count": null,
   "metadata": {},
   "outputs": [],
   "source": [
    "# Lo mismo ocurrirá si pedimos ayuda sobre qué es y qué podemos hacer con un string\n",
    "\n",
    "help(str)"
   ]
  },
  {
   "cell_type": "markdown",
   "metadata": {},
   "source": [
    "- Poniendo ? antes de una función, obtenemos la ayuda de dicha función."
   ]
  },
  {
   "cell_type": "code",
   "execution_count": null,
   "metadata": {},
   "outputs": [],
   "source": [
    "?print"
   ]
  },
  {
   "cell_type": "markdown",
   "metadata": {},
   "source": [
    "- Conseguimos el mismo efecto con shift + tab encima del objeto o función. Este sistema suele ser el más usado."
   ]
  },
  {
   "cell_type": "code",
   "execution_count": null,
   "metadata": {},
   "outputs": [],
   "source": [
    "print()"
   ]
  },
  {
   "cell_type": "markdown",
   "metadata": {},
   "source": [
    "- Pulsando + y seleccionando ayuda contextual, nos abre otra ventana que podemos colocar a la derecha (por ejemplo). Cada vez que pinchemos en una función, se nos abrirá la ayuda en esta segunda ventana."
   ]
  },
  {
   "cell_type": "markdown",
   "metadata": {},
   "source": [
    "# Variables"
   ]
  },
  {
   "cell_type": "markdown",
   "metadata": {},
   "source": [
    "El resultado de una operación, los parámetros y los datos se almacenan en variables.\n",
    "- Pueden verse como un objeto, con un nombre, que equivale a un valor.\n",
    "- Su nombre puede contener:\n",
    " - Carácteres alfanuméricos: a-z, A-Z, 0-9\n",
    " - Guión bajo: _\n",
    "- No se deben usar palabras reservadas (podríais usarlas, pero sobreescribiríais su funcionalidad y python empezaría a hacer cosas raras):\n",
    " - False, None, True, and, as, assert, break, class, continue, def, del, elif, else, except, finally, for, from, global, if, import, in, is, lambda, nonlocal, not, or, pass, raise, return, try, while, with, yield\n",
    "\n",
    "Una asignación es el establecimiento de un nombre a un objeto/valor.\n",
    "- La asignación se realiza mediante el operador \"=\"; por PEP8 se dejan espacio antes y después.\n",
    "- Python infiere el tipo de las variables.\n",
    "- Cuando dejan de ser usadas el *garbage collector* las elimina automáticamente. También se pueden eliminar con el comando \"del\".\n",
    "- Se puede hacer asignación múltiple en una misma sentencia.\n",
    "- Si intentamos utilizar una variable no creada anteriormente obtendremos un error.\n",
    "\n",
    "Aunque no hay normas, las buenas prácticas dicen que los nombres de variables deben:\n",
    "- Ser siempre en minúsculas: las mayúsculas se reserva para la declaración de clases (primera letra de cada palabra en mayúscula, programación orientada a objetos) y variables globales (todas las letras en mayúscula).\n",
    "- Autoexplicativos.\n"
   ]
  },
  {
   "cell_type": "code",
   "execution_count": null,
   "metadata": {},
   "outputs": [],
   "source": [
    "x = 2 \n",
    "y = 5\n",
    "xy = 'Hey' # Los string se pueden poner con comillas simples o dobles\n",
    "print(x+y, xy) # Print puede recibir varios valores para imprimir. La última línea de la celda se imprime automáticamente, pero el resto de líneas no (print sería necesario)"
   ]
  },
  {
   "cell_type": "markdown",
   "metadata": {},
   "source": [
    "Múltiples variables se pueden asignar al mismo valor."
   ]
  },
  {
   "cell_type": "code",
   "execution_count": null,
   "metadata": {},
   "outputs": [],
   "source": [
    "x = y = 1 # x e y están tomando el mismo valor\n",
    "print(x, y)"
   ]
  },
  {
   "cell_type": "markdown",
   "metadata": {},
   "source": [
    "Múltiples asignaciones en la misma línea:"
   ]
  },
  {
   "cell_type": "code",
   "execution_count": null,
   "metadata": {},
   "outputs": [],
   "source": [
    "x, y = 1, 2"
   ]
  },
  {
   "cell_type": "markdown",
   "metadata": {},
   "source": [
    "Intercambio de variables:"
   ]
  },
  {
   "cell_type": "code",
   "execution_count": null,
   "metadata": {},
   "outputs": [],
   "source": [
    "a = 1\n",
    "b = 2"
   ]
  },
  {
   "cell_type": "code",
   "execution_count": null,
   "metadata": {},
   "outputs": [],
   "source": [
    "# Manera clásica de intercambiar el valor de 2 variables\n",
    "\n",
    "aux = a\n",
    "a = b\n",
    "b = aux"
   ]
  },
  {
   "cell_type": "code",
   "execution_count": null,
   "metadata": {},
   "outputs": [],
   "source": [
    "print(a, b)"
   ]
  },
  {
   "cell_type": "code",
   "execution_count": null,
   "metadata": {},
   "outputs": [],
   "source": [
    "# En python es mucho más sencillo\n",
    "\n",
    "a, b = b, a\n",
    "print(a, b)"
   ]
  },
  {
   "cell_type": "markdown",
   "metadata": {},
   "source": [
    "### Tipos básicos:\n",
    "\n",
    "<center>\n",
    "<img src=\"imgs/tipos_basicos.png\"  alt=\"drawing\" width=\"600\"/>\n",
    "</center>\n",
    "    \n",
    "- Cadenas de caracteres o *str*: Se especifican entre comillas simples o dobles.\n",
    "- Valores numéricos enteros o *int*: No incluyen punto decimal.\n",
    "- Valores numéricos decimales o *float*: Incluyen punto decimal.\n",
    "- Valores booleanos o *bool*: True / False (case sensitive), para comparaciones 1 se toma como True y 0 como False."
   ]
  },
  {
   "cell_type": "code",
   "execution_count": null,
   "metadata": {},
   "outputs": [],
   "source": [
    "2.0           # a simple floating point number\n",
    "1e100         # Notación científica, equivale a googol \n",
    "-1234567890   # an integer\n",
    "True or False # the two possible boolean values\n",
    "'This is a string'\n",
    "\"It's another string\"\n",
    "print(\"\"\"Triple quotes (also with '''),\n",
    "allow strings to break over multiple lines.\n",
    "Alternatively \\n is a newline character \n",
    "(\\t for tab, \\\\ is a single backslash)\"\"\")"
   ]
  },
  {
   "cell_type": "markdown",
   "metadata": {},
   "source": [
    "- Con **type()** podemos saber el tipo:"
   ]
  },
  {
   "cell_type": "code",
   "execution_count": null,
   "metadata": {},
   "outputs": [],
   "source": [
    "type(1)"
   ]
  },
  {
   "cell_type": "code",
   "execution_count": null,
   "metadata": {},
   "outputs": [],
   "source": [
    "type('hola')"
   ]
  },
  {
   "cell_type": "markdown",
   "metadata": {},
   "source": [
    "- Pueden cambiar de tipo:"
   ]
  },
  {
   "cell_type": "code",
   "execution_count": null,
   "metadata": {},
   "outputs": [],
   "source": [
    "v_cambio = 1\n",
    "print(type(v_cambio))\n",
    "v_cambio = \"ya no es un número\"\n",
    "print(type(v_cambio))"
   ]
  },
  {
   "cell_type": "markdown",
   "metadata": {},
   "source": [
    "# Operadores"
   ]
  },
  {
   "cell_type": "markdown",
   "metadata": {},
   "source": [
    "## Operadores Aritméticos"
   ]
  },
  {
   "cell_type": "markdown",
   "metadata": {},
   "source": [
    "<center>\n",
    "<img src=\"imgs/ops_1.png\"  alt=\"drawing\" width=\"600\"/>\n",
    "</center>\n",
    "\n",
    "- % para el módulo\n",
    "- **pow(x, y)** equivalente a x**y\n",
    "- & y | son operadores binarios, no booleanos. Para los operadores booleanos, como en R, tendremos que escribir and u or"
   ]
  },
  {
   "cell_type": "code",
   "execution_count": null,
   "metadata": {},
   "outputs": [],
   "source": [
    "1+2"
   ]
  },
  {
   "cell_type": "code",
   "execution_count": null,
   "metadata": {},
   "outputs": [],
   "source": [
    "2-1"
   ]
  },
  {
   "cell_type": "code",
   "execution_count": null,
   "metadata": {},
   "outputs": [],
   "source": [
    "1*2"
   ]
  },
  {
   "cell_type": "code",
   "execution_count": null,
   "metadata": {},
   "outputs": [],
   "source": [
    "3/4"
   ]
  },
  {
   "cell_type": "markdown",
   "metadata": {},
   "source": [
    "En versiones anteriores de Python (hasta 2.7) el operador división 1/2 = 0 es la division truncada o entera.\n",
    "En Python 3 la división da un float. Si queremos emular el comportamiento de la división truncada se logra con: (ie a // b$=\\lfloor \\frac{a}{b}\\rfloor$)"
   ]
  },
  {
   "cell_type": "code",
   "execution_count": null,
   "metadata": {},
   "outputs": [],
   "source": [
    "3//4.0"
   ]
  },
  {
   "cell_type": "code",
   "execution_count": null,
   "metadata": {},
   "outputs": [],
   "source": [
    "15%10"
   ]
  },
  {
   "cell_type": "markdown",
   "metadata": {},
   "source": [
    "Python nativamente  permirte ints de dimensión infinita (tanto como memoria tengáis), Pero no con los floats de doble precision (si nos pasamos de 64 bits , nos dará error):"
   ]
  },
  {
   "cell_type": "code",
   "execution_count": null,
   "metadata": {},
   "outputs": [],
   "source": [
    "11**300"
   ]
  },
  {
   "cell_type": "code",
   "execution_count": null,
   "metadata": {},
   "outputs": [],
   "source": [
    "11.0**300 # Error: too large"
   ]
  },
  {
   "cell_type": "markdown",
   "metadata": {},
   "source": [
    "## Operadores Relacionales"
   ]
  },
  {
   "cell_type": "markdown",
   "metadata": {},
   "source": [
    "<center>\n",
    "<img src=\"./imgs/ops_2.png\"  alt=\"drawing\" width=\"600\"/>\n",
    "</center>  "
   ]
  },
  {
   "cell_type": "code",
   "execution_count": null,
   "metadata": {},
   "outputs": [],
   "source": [
    "z = 2\n",
    "z == 2"
   ]
  },
  {
   "cell_type": "code",
   "execution_count": null,
   "metadata": {},
   "outputs": [],
   "source": [
    "z > 2"
   ]
  },
  {
   "cell_type": "markdown",
   "metadata": {},
   "source": [
    "- Las comparaciones pueden ser encadenadas matemáticamente:"
   ]
  },
  {
   "cell_type": "code",
   "execution_count": null,
   "metadata": {},
   "outputs": [],
   "source": [
    "z = 0.7"
   ]
  },
  {
   "cell_type": "code",
   "execution_count": null,
   "metadata": {},
   "outputs": [],
   "source": [
    "0.5 < z <= 1"
   ]
  },
  {
   "cell_type": "markdown",
   "metadata": {},
   "source": [
    "## Boolean Operators"
   ]
  },
  {
   "cell_type": "markdown",
   "metadata": {},
   "source": [
    "- Con and, or, not tenemos las operaciones booleanas igual que en R\n",
    "\n",
    "|Operator|Meaning | Symbol | Task Performed |\n",
    "|----|--- |----|---|\n",
    "|`and`| Logical and | | &  | Bitwise And |\n",
    "|`or` | Logical or | | $\\mid$  | Bitwise OR |\n",
    "|`not` | Not | | ~  | Negate |"
   ]
  },
  {
   "cell_type": "code",
   "execution_count": null,
   "metadata": {},
   "outputs": [],
   "source": [
    "True and False"
   ]
  },
  {
   "cell_type": "code",
   "execution_count": null,
   "metadata": {},
   "outputs": [],
   "source": [
    "not False"
   ]
  },
  {
   "cell_type": "code",
   "execution_count": null,
   "metadata": {},
   "outputs": [],
   "source": [
    "True or False"
   ]
  },
  {
   "cell_type": "code",
   "execution_count": null,
   "metadata": {},
   "outputs": [],
   "source": [
    "print( not (True and False), \"==\", not True or not False)"
   ]
  },
  {
   "cell_type": "markdown",
   "metadata": {},
   "source": [
    "# Built-in Functions"
   ]
  },
  {
   "cell_type": "markdown",
   "metadata": {},
   "source": [
    "- Python incluye un amplio rango de funciones por defecto.\n",
    "- Muchas de estas son parte de la librería standard, Otras tienen que ser importadas, como por ejemplo las matématicas, que están en el paquete  `math`."
   ]
  },
  {
   "cell_type": "markdown",
   "metadata": {},
   "source": [
    "## Conversión de valores"
   ]
  },
  {
   "cell_type": "markdown",
   "metadata": {},
   "source": [
    "- **int( )**  convierte un número a entero.\n",
    "- Puede ser un floating point, integer o string. \n",
    "- Para strings, le podemos pasar la base que queramos usar."
   ]
  },
  {
   "cell_type": "code",
   "execution_count": null,
   "metadata": {},
   "outputs": [],
   "source": [
    "int(7.7)"
   ]
  },
  {
   "cell_type": "code",
   "execution_count": null,
   "metadata": {},
   "outputs": [],
   "source": [
    "int('111', 2) # Le especificamos que la base es binaria"
   ]
  },
  {
   "cell_type": "code",
   "execution_count": null,
   "metadata": {},
   "outputs": [],
   "source": [
    "int('7')"
   ]
  },
  {
   "cell_type": "markdown",
   "metadata": {},
   "source": [
    "- La función **str( )**  puede ser utilizada para convertir cualquier objeto a un string."
   ]
  },
  {
   "cell_type": "code",
   "execution_count": null,
   "metadata": {},
   "outputs": [],
   "source": [
    "str(1.2345678)"
   ]
  },
  {
   "cell_type": "code",
   "execution_count": null,
   "metadata": {},
   "outputs": [],
   "source": [
    "str(-2)"
   ]
  },
  {
   "cell_type": "code",
   "execution_count": null,
   "metadata": {},
   "outputs": [],
   "source": [
    "str(True)"
   ]
  },
  {
   "cell_type": "markdown",
   "metadata": {},
   "source": [
    "- La función  **float()** convierte a float."
   ]
  },
  {
   "cell_type": "code",
   "execution_count": null,
   "metadata": {},
   "outputs": [],
   "source": [
    "float('1.2')"
   ]
  },
  {
   "cell_type": "code",
   "execution_count": null,
   "metadata": {},
   "outputs": [],
   "source": [
    "float('13a,jdf') # No se puede convertir y dará error"
   ]
  },
  {
   "cell_type": "markdown",
   "metadata": {},
   "source": [
    "- La función **bool()** convierta a boolean."
   ]
  },
  {
   "cell_type": "code",
   "execution_count": null,
   "metadata": {},
   "outputs": [],
   "source": [
    "bool(1)"
   ]
  },
  {
   "cell_type": "code",
   "execution_count": null,
   "metadata": {},
   "outputs": [],
   "source": [
    "bool(0)"
   ]
  },
  {
   "cell_type": "code",
   "execution_count": null,
   "metadata": {},
   "outputs": [],
   "source": [
    "bool(90129) # Cualquier valor que no sea cero, será convertido a True"
   ]
  },
  {
   "cell_type": "code",
   "execution_count": null,
   "metadata": {},
   "outputs": [],
   "source": [
    "bool('') # Un string vacío será interpretado como False"
   ]
  },
  {
   "cell_type": "code",
   "execution_count": null,
   "metadata": {},
   "outputs": [],
   "source": [
    "bool('aadkaj') # Cualquier otro string será interpretado como True"
   ]
  },
  {
   "cell_type": "markdown",
   "metadata": {},
   "source": [
    "## Funciones matemáticas\n",
    "- El módulo math incluye las funciones matemáticas comunes como logaritmos, trigonométricas, etc."
   ]
  },
  {
   "cell_type": "code",
   "execution_count": null,
   "metadata": {},
   "outputs": [],
   "source": [
    "import math\n",
    "math.sin(math.pi/2)"
   ]
  },
  {
   "cell_type": "markdown",
   "metadata": {},
   "source": [
    "- El módulo random permite la generación de números aleatorios."
   ]
  },
  {
   "cell_type": "code",
   "execution_count": null,
   "metadata": {},
   "outputs": [],
   "source": [
    "import random\n",
    "random.randint(1, 10) # aleatorio entero entre 1 y 10"
   ]
  },
  {
   "cell_type": "markdown",
   "metadata": {},
   "source": [
    "- **round( )**  redondea el valor a un número especificado de decimales o por defecto al entero más próximo."
   ]
  },
  {
   "cell_type": "code",
   "execution_count": null,
   "metadata": {},
   "outputs": [],
   "source": [
    "round(5.6231)"
   ]
  },
  {
   "cell_type": "code",
   "execution_count": null,
   "metadata": {},
   "outputs": [],
   "source": [
    "round(4.55892, 2)"
   ]
  },
  {
   "cell_type": "markdown",
   "metadata": {},
   "source": [
    "- **complex( )** para definir un número complejo (por si alguna vez necesitáis usarlo)\n",
    "- **(r+ij)** también es válido.\n",
    "- **abs( )** calcula el módulo."
   ]
  },
  {
   "cell_type": "code",
   "execution_count": null,
   "metadata": {},
   "outputs": [],
   "source": [
    "c = complex('5+2j')\n",
    "print(abs(c))"
   ]
  },
  {
   "cell_type": "code",
   "execution_count": null,
   "metadata": {},
   "outputs": [],
   "source": [
    "c = 1 + 2j"
   ]
  },
  {
   "cell_type": "code",
   "execution_count": null,
   "metadata": {},
   "outputs": [],
   "source": [
    "abs(c)"
   ]
  },
  {
   "cell_type": "markdown",
   "metadata": {},
   "source": [
    "- **divmod(x,y)** retorna el cociente y el resto en en tupla (veremos la tupla con detalle más adelante)."
   ]
  },
  {
   "cell_type": "code",
   "execution_count": null,
   "metadata": {},
   "outputs": [],
   "source": [
    "9/2"
   ]
  },
  {
   "cell_type": "code",
   "execution_count": null,
   "metadata": {},
   "outputs": [],
   "source": [
    "cociente, resto = divmod(9,2)\n",
    "print(cociente)\n",
    "print(resto)"
   ]
  },
  {
   "cell_type": "markdown",
   "metadata": {},
   "source": [
    "## Lectura de la entrada estándar"
   ]
  },
  {
   "cell_type": "markdown",
   "metadata": {},
   "source": [
    "- Para leer cualquier valor del teclado se utiliza la función de Python **input**.\n",
    "- El contenido será leído como string."
   ]
  },
  {
   "cell_type": "code",
   "execution_count": null,
   "metadata": {},
   "outputs": [],
   "source": [
    "abc = input(\"abc = \")\n",
    "print(abc)"
   ]
  },
  {
   "cell_type": "markdown",
   "metadata": {},
   "source": [
    "\n",
    "- La función **eval()** toma un string y lo evalúa como una expresión matemática."
   ]
  },
  {
   "cell_type": "code",
   "execution_count": null,
   "metadata": {},
   "outputs": [],
   "source": [
    "abc = input(\"abc = \") # Escribe 1+2\n",
    "abc_value = eval(abc)\n",
    "print(abc, '=', abc_value)"
   ]
  },
  {
   "cell_type": "markdown",
   "metadata": {},
   "source": [
    "___\n",
    "# Ejercicios"
   ]
  },
  {
   "cell_type": "markdown",
   "metadata": {},
   "source": [
    "**1.2.1.** Suma 5 +5 y divide el resultado entre 2"
   ]
  },
  {
   "cell_type": "code",
   "execution_count": null,
   "metadata": {},
   "outputs": [],
   "source": []
  },
  {
   "cell_type": "markdown",
   "metadata": {},
   "source": [
    "**1.2.2.** Calcula 2 elevado a 5"
   ]
  },
  {
   "cell_type": "code",
   "execution_count": null,
   "metadata": {},
   "outputs": [],
   "source": []
  },
  {
   "cell_type": "markdown",
   "metadata": {},
   "source": [
    "**1.2.3.** Asigna el valor 5 a la variable my_apples y muestra el contenido de la variable"
   ]
  },
  {
   "cell_type": "code",
   "execution_count": null,
   "metadata": {},
   "outputs": [],
   "source": []
  },
  {
   "cell_type": "markdown",
   "metadata": {},
   "source": [
    "**1.2.4.** Asigna el valor 6 a la variable my_pears y muestra el contenido de la variable"
   ]
  },
  {
   "cell_type": "code",
   "execution_count": null,
   "metadata": {},
   "outputs": [],
   "source": []
  },
  {
   "cell_type": "markdown",
   "metadata": {},
   "source": [
    "**1.2.5.** Suma peras con manzanas: crea una nueva variable my_fruit con la suma. Muestra el número total de piezas de fruta"
   ]
  },
  {
   "cell_type": "code",
   "execution_count": null,
   "metadata": {},
   "outputs": [],
   "source": []
  },
  {
   "cell_type": "markdown",
   "metadata": {},
   "source": [
    "**1.2.6.** Declara una variable de tipo texto, my_character, con el valor \"forty-two\""
   ]
  },
  {
   "cell_type": "code",
   "execution_count": null,
   "metadata": {},
   "outputs": [],
   "source": []
  },
  {
   "cell_type": "markdown",
   "metadata": {},
   "source": [
    "**1.2.7.** Declara una variable booleana, my_logical, con el valor FALSE"
   ]
  },
  {
   "cell_type": "code",
   "execution_count": null,
   "metadata": {},
   "outputs": [],
   "source": []
  },
  {
   "cell_type": "markdown",
   "metadata": {},
   "source": [
    "**1.2.8.** Declara una variable de texto con el valor 42 y conviértela a integer"
   ]
  },
  {
   "cell_type": "code",
   "execution_count": null,
   "metadata": {},
   "outputs": [],
   "source": []
  },
  {
   "cell_type": "markdown",
   "metadata": {},
   "source": [
    "**1.2.9.** Escribe un código que solicite al usuario un número n y devuelva el resultado de n + n * n + n * n * n. (Ejemplo: n = 5 daría como resultado 155)."
   ]
  },
  {
   "cell_type": "code",
   "execution_count": null,
   "metadata": {},
   "outputs": [],
   "source": []
  },
  {
   "cell_type": "markdown",
   "metadata": {},
   "source": [
    "**1.2.10.** Escribe un código que permita ver si un input introducido por el usuario es par."
   ]
  },
  {
   "cell_type": "code",
   "execution_count": null,
   "metadata": {},
   "outputs": [],
   "source": []
  }
 ],
 "metadata": {
  "kernelspec": {
   "display_name": "Python 3",
   "language": "python",
   "name": "python3"
  },
  "language_info": {
   "codemirror_mode": {
    "name": "ipython",
    "version": 3
   },
   "file_extension": ".py",
   "mimetype": "text/x-python",
   "name": "python",
   "nbconvert_exporter": "python",
   "pygments_lexer": "ipython3",
   "version": "3.7.7"
  }
 },
 "nbformat": 4,
 "nbformat_minor": 4
}
