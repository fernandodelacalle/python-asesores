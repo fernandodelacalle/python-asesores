{
 "cells": [
  {
   "cell_type": "markdown",
   "metadata": {},
   "source": [
    "# Introducción a Python Aplicado a Finanzas Cuantitativas.\n",
    "\n",
    "<center>\n",
    "<img src=\"./module_1/imgs/python-logo.png\"  alt=\"drawing\" width=\"500\"/>\n",
    "</center>\n",
    "\n",
    "- Fernando de la Calle Silos\n",
    "- fcalle@grupobme.es\n",
    "___\n",
    "\n",
    "<center>\n",
    "<img src=\"./module_1/imgs/python.png\"  alt=\"drawing\" width=\"400\"/>\n",
    "</center>"
   ]
  },
  {
   "cell_type": "markdown",
   "metadata": {},
   "source": [
    "## Librerías más usadas\n",
    "<center>\n",
    "<img src=\"module_1/imgs/scipy_ecosystem.png\"  alt=\"drawing\" width=\"600\"/>\n",
    "</center>"
   ]
  },
  {
   "cell_type": "markdown",
   "metadata": {},
   "source": [
    "## Syllabus\n",
    "### Módulo 1: Fundamentos de programación.\n",
    "* [1.0.](module_1/1_00.ipynb) Instalación.\n",
    "* [1.1.](module_1/1_01.ipynb) Jupyter Notebooks.\n",
    "* [1.2.](module_1/1_02.ipynb) Sintaxis básica, operaciones y tipos básicos.\n",
    "* [1.3.](module_1/1_03.ipynb) Strings.\n",
    "* [1.4.](module_1/1_04.ipynb) Estructuras de datos: Lists.\n",
    "* [1.5.](module_1/1_05.ipynb) Estructuras de datos: Sets.\n",
    "* [1.6.](module_1/1_06.ipynb) Estructuras de datos: Diccionarios.\n",
    "* [1.7.](module_1/1_07.ipynb) Control Flow.\n",
    "* [1.8.](module_1/1_08.ipynb) Funciones.\n",
    "\n",
    "\n",
    "### Módulo 2: Introducción a las librerías Numpy, Pandas y Matplotlib.\n",
    "* [2.1.](module_2/2_01.ipynb) Introducción a NumPy\n",
    "* [2.2.](module_2/2_02.ipynb) Introducción a Pandas I.\n",
    "* [2.3.](module_2/2_03.ipynb) Introducción a Pandas II.\n",
    "* [2.4.](module_2/2_04.ipynb) Introducción a Pandas III.\n",
    "* [2.5.](module_2/2_05.ipynb) Visualización de datos.\n",
    "* [2.6.](module_2/2_06.ipynb) Pandas: Adquisición y guardado de datos.\n",
    "* [2.7.](module_2/2_07.ipynb) Pandas: Limpieza y preparación de datos.\n",
    "* [2.8.](module_2/2_07.ipynb) Operaciones de combinar, juntar y agrupar.\n",
    "\n",
    "\n",
    "\n",
    "### Módulo 3: Tratamiento de series temporales.\n",
    "* [3.1.](module_3/3_01.ipynb) Tratamiento de series temporales I.\n",
    "* [3.2.](module_3/3_02.ipynb) Tratamiento de series temporales II.\n",
    "\n",
    "\n",
    "### Módulo 4: Aplicaciones específicas en mercados financieros.\n",
    "* [4.1.](module_4/4_01.ipynb) Obtención de datos financieros.\n",
    "* [4.2.](module_4/4_02.ipynb) Simulación para medición de riesgos (VaR).\n",
    "* [4.3.](module_4/4_03.ipynb) Optimización de carteras I.\n",
    "\n",
    "\n",
    "### Soluciones Ejercicos.\n",
    "* [1.Sol](ejercicios_soluciones/soluciones_modulo_1.ipynb) Soluciones Modulo 1.\n",
    "* [2.Sol](ejercicios_soluciones/soluciones_modulo_2.ipynb) Soluciones Modulo 2.\n",
    "* [3.Sol](ejercicios_soluciones/soluciones_modulo_3.ipynb) Soluciones Modulo 3.\n",
    "* [4.1.Sol](ejercicios_soluciones/4_01_Solution.ipynb) Obtención de datos financieros  (Solución).\n",
    "* [4.2.Sol](ejercicios_soluciones/4_02_Solution.ipynb) Simulación para medición de riesgos (VaR) (Solución).\n",
    "* [4.3.Sol](ejercicios_soluciones/4_03_Solution.ipynb) Optimización de carteras I (Solución)."
   ]
  },
  {
   "cell_type": "markdown",
   "metadata": {},
   "source": [
    "## Recursos\n",
    "- \"Python for Data Analysis\" by Wes McKinney.\n",
    "<center>\n",
    "<img src=\"module_1/imgs/wes.jpg\"  alt=\"drawing\" width=\"300\"/>\n",
    "</center>\n",
    "- Python tutorial: https://docs.python.org/3/tutorial/index.html\n",
    "- Python documentation: https://docs.python.org/3.6/index.html\n",
    "- python-cheatsheet: https://gto76.github.io/python-cheatsheet/\n",
    "- https://ehmatthes.github.io/pcc/cheatsheets/README.html"
   ]
  },
  {
   "cell_type": "code",
   "execution_count": null,
   "metadata": {},
   "outputs": [],
   "source": []
  }
 ],
 "metadata": {
  "kernelspec": {
   "display_name": "Python 3 (ipykernel)",
   "language": "python",
   "name": "python3"
  },
  "language_info": {
   "codemirror_mode": {
    "name": "ipython",
    "version": 3
   },
   "file_extension": ".py",
   "mimetype": "text/x-python",
   "name": "python",
   "nbconvert_exporter": "python",
   "pygments_lexer": "ipython3",
   "version": "3.7.3"
  }
 },
 "nbformat": 4,
 "nbformat_minor": 4
}
