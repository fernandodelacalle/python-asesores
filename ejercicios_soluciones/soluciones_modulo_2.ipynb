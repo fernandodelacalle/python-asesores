{
 "cells": [
  {
   "cell_type": "markdown",
   "metadata": {},
   "source": [
    "___\n",
    "## Módulo 2:  Introducción a las librerías Numpy, Pandas y Matplotlib.\n",
    "___"
   ]
  },
  {
   "cell_type": "code",
   "execution_count": 1,
   "metadata": {},
   "outputs": [],
   "source": [
    "import pandas as pd\n",
    "import numpy as np\n",
    "import matplotlib.pyplot as plt"
   ]
  },
  {
   "cell_type": "markdown",
   "metadata": {},
   "source": [
    "### 2.1. Introducción a NumPy I."
   ]
  },
  {
   "cell_type": "markdown",
   "metadata": {},
   "source": [
    "**2.1.1.**  Crea un vector con valores de 10 a 49 en pasos de 0.5."
   ]
  },
  {
   "cell_type": "code",
   "execution_count": null,
   "metadata": {},
   "outputs": [],
   "source": [
    "vect = np.arange(10, 49, 0.5)\n",
    "vect"
   ]
  },
  {
   "cell_type": "markdown",
   "metadata": {},
   "source": [
    "**2.1.2.** Muestra su dimensión y su tipo."
   ]
  },
  {
   "cell_type": "code",
   "execution_count": null,
   "metadata": {},
   "outputs": [],
   "source": [
    "vect.shape"
   ]
  },
  {
   "cell_type": "code",
   "execution_count": null,
   "metadata": {},
   "outputs": [],
   "source": [
    "vect.dtype"
   ]
  },
  {
   "cell_type": "markdown",
   "metadata": {},
   "source": [
    "**2.1.3.** Crea un array con los números que elijas de dimensiones 2x3."
   ]
  },
  {
   "cell_type": "code",
   "execution_count": null,
   "metadata": {},
   "outputs": [],
   "source": [
    "lista_para_arr = [\n",
    "    [1,2,3],\n",
    "    [1,4,2],\n",
    "]"
   ]
  },
  {
   "cell_type": "code",
   "execution_count": null,
   "metadata": {},
   "outputs": [],
   "source": [
    "np.array(lista_para_arr)"
   ]
  },
  {
   "cell_type": "markdown",
   "metadata": {},
   "source": [
    "**2.1.4.** Indexing y slicing:\n",
    "\n",
    "- Crea un array unidimensional de 10 elemento aleatorios.\n",
    "- Crea un array bidimensional de 10x10 elementos aletorios.\n",
    "- Accede al primer elemento y al penúltimo número de cada array. \n",
    "- Para el array unidimensional: muestra todos los elementos en posiciones pares desde la posición 6. \n",
    "- Para el array bidimensional: muestra una submatriz con las dos primeras filas y las tres primeras columnas.\n",
    "- Divide el array bidimensional en dos: uno con las 2 primera filas y otro con las siguientes"
   ]
  },
  {
   "cell_type": "code",
   "execution_count": null,
   "metadata": {},
   "outputs": [],
   "source": [
    "uni = np.random.rand(10)\n",
    "bi_dim = np.random.rand(10, 10)"
   ]
  },
  {
   "cell_type": "code",
   "execution_count": null,
   "metadata": {},
   "outputs": [],
   "source": [
    "uni.shape"
   ]
  },
  {
   "cell_type": "code",
   "execution_count": null,
   "metadata": {},
   "outputs": [],
   "source": [
    "bi_dim.shape"
   ]
  },
  {
   "cell_type": "code",
   "execution_count": null,
   "metadata": {},
   "outputs": [],
   "source": [
    "print(uni[0])\n",
    "print(uni[-2])"
   ]
  },
  {
   "cell_type": "code",
   "execution_count": null,
   "metadata": {},
   "outputs": [],
   "source": [
    "print(bi_dim[0, 0])\n",
    "print(bi_dim[-2,-2])"
   ]
  },
  {
   "cell_type": "code",
   "execution_count": null,
   "metadata": {},
   "outputs": [],
   "source": [
    "uni[6::2]"
   ]
  },
  {
   "cell_type": "code",
   "execution_count": null,
   "metadata": {},
   "outputs": [],
   "source": [
    "bi_dim[:2,:3]"
   ]
  },
  {
   "cell_type": "code",
   "execution_count": null,
   "metadata": {},
   "outputs": [],
   "source": [
    "vector = np.random.rand(1, 10)\n",
    "\n",
    "print(vector.shape)\n",
    "print(vector.T.shape)"
   ]
  },
  {
   "cell_type": "code",
   "execution_count": null,
   "metadata": {},
   "outputs": [],
   "source": [
    "bi_dim_a = bi_dim[:2,:]\n",
    "bi_dim_b = bi_dim[2:,:]"
   ]
  },
  {
   "cell_type": "code",
   "execution_count": null,
   "metadata": {},
   "outputs": [],
   "source": [
    "bi_dim_a"
   ]
  },
  {
   "cell_type": "code",
   "execution_count": null,
   "metadata": {},
   "outputs": [],
   "source": [
    "bi_dim_b"
   ]
  },
  {
   "cell_type": "markdown",
   "metadata": {},
   "source": [
    "**2.1.5.** Crea una función que reciba como parámetro un número n y devuelva una matriz cuadrada (dos dimensiones) de nxn donde los elementos de la diagonal principal valgan 5 y el resto valgan n."
   ]
  },
  {
   "cell_type": "code",
   "execution_count": null,
   "metadata": {},
   "outputs": [],
   "source": [
    "def fun(n):\n",
    "    return np.eye(n)*5"
   ]
  },
  {
   "cell_type": "code",
   "execution_count": null,
   "metadata": {},
   "outputs": [],
   "source": [
    "fun(3)"
   ]
  },
  {
   "cell_type": "markdown",
   "metadata": {},
   "source": [
    "**2.1.6.** Crea un vector de 30 elementos aleatorios y calcula su media."
   ]
  },
  {
   "cell_type": "code",
   "execution_count": 3,
   "metadata": {},
   "outputs": [],
   "source": [
    "vector = np.random.random(30)"
   ]
  },
  {
   "cell_type": "code",
   "execution_count": 4,
   "metadata": {},
   "outputs": [
    {
     "data": {
      "text/plain": [
       "0.4762089124894276"
      ]
     },
     "execution_count": 4,
     "metadata": {},
     "output_type": "execute_result"
    }
   ],
   "source": [
    "np.mean(vector)"
   ]
  },
  {
   "cell_type": "code",
   "execution_count": 5,
   "metadata": {},
   "outputs": [
    {
     "data": {
      "text/plain": [
       "0.4762089124894276"
      ]
     },
     "execution_count": 5,
     "metadata": {},
     "output_type": "execute_result"
    }
   ],
   "source": [
    "vector.mean()"
   ]
  },
  {
   "cell_type": "markdown",
   "metadata": {},
   "source": [
    "**2.1.7.** Crea una matriz de 8x10 aleatoria y substrae la media por columnas."
   ]
  },
  {
   "cell_type": "code",
   "execution_count": 6,
   "metadata": {},
   "outputs": [
    {
     "data": {
      "text/plain": [
       "array([[9, 3, 5, 3, 9, 7, 5, 9, 5, 7],\n",
       "       [1, 2, 6, 6, 9, 1, 4, 8, 1, 1],\n",
       "       [1, 9, 8, 4, 8, 9, 5, 3, 9, 8],\n",
       "       [2, 1, 8, 3, 4, 5, 8, 1, 3, 8],\n",
       "       [1, 3, 2, 8, 8, 9, 9, 4, 8, 5],\n",
       "       [1, 2, 8, 9, 8, 9, 4, 6, 8, 6],\n",
       "       [8, 1, 1, 1, 5, 4, 1, 9, 2, 6],\n",
       "       [1, 2, 2, 7, 1, 8, 6, 5, 8, 5]])"
      ]
     },
     "execution_count": 6,
     "metadata": {},
     "output_type": "execute_result"
    }
   ],
   "source": [
    "matriz = np.random.randint(1, 10, (8,10))\n",
    "matriz"
   ]
  },
  {
   "cell_type": "code",
   "execution_count": 7,
   "metadata": {},
   "outputs": [
    {
     "data": {
      "text/plain": [
       "(8, 10)"
      ]
     },
     "execution_count": 7,
     "metadata": {},
     "output_type": "execute_result"
    }
   ],
   "source": [
    "matriz.shape"
   ]
  },
  {
   "cell_type": "code",
   "execution_count": 13,
   "metadata": {},
   "outputs": [
    {
     "data": {
      "text/plain": [
       "array([3.   , 2.875, 5.   , 5.125, 6.5  , 6.5  , 5.25 , 5.625, 5.5  ,\n",
       "       5.75 ])"
      ]
     },
     "execution_count": 13,
     "metadata": {},
     "output_type": "execute_result"
    }
   ],
   "source": [
    "matriz.mean(axis=0)"
   ]
  },
  {
   "cell_type": "markdown",
   "metadata": {},
   "source": [
    "**2.1.8.** Crea una función que reciba dos enteros n y m, \n",
    "\n",
    "- Genere dos matrices aleatorias (normales 0,1) de dimensiones nxm y mxn\n",
    "- Haga el producto matricial de ambas para obtener una matriz nxn. "
   ]
  },
  {
   "cell_type": "code",
   "execution_count": 14,
   "metadata": {},
   "outputs": [],
   "source": [
    "def mxn(a,b):\n",
    "\n",
    "    x = np.random.rand(a, b)\n",
    "    y = np.random.rand(b, a)\n",
    "    \n",
    "    return np.dot(x,y)"
   ]
  },
  {
   "cell_type": "code",
   "execution_count": 15,
   "metadata": {},
   "outputs": [
    {
     "data": {
      "text/plain": [
       "array([[1.81513082, 1.85766995, 1.45510752, 2.03619213, 1.56466396],\n",
       "       [2.77420835, 2.68796942, 2.12581695, 2.36617271, 1.8047049 ],\n",
       "       [1.83065919, 2.0085336 , 1.82655089, 2.11626344, 2.21727789],\n",
       "       [2.51731932, 2.51943186, 1.58716631, 1.8833131 , 1.39616494],\n",
       "       [2.96169186, 3.03397983, 2.36471108, 2.61491079, 2.13350341]])"
      ]
     },
     "execution_count": 15,
     "metadata": {},
     "output_type": "execute_result"
    }
   ],
   "source": [
    "mxn(5,10)"
   ]
  },
  {
   "cell_type": "markdown",
   "metadata": {},
   "source": [
    "**2.1.9.** Calule el capital final de invertir 500€ mensuales durante 10 años, a un interés anual del 10%"
   ]
  },
  {
   "cell_type": "code",
   "execution_count": 29,
   "metadata": {},
   "outputs": [],
   "source": [
    "import numpy_financial as npf"
   ]
  },
  {
   "cell_type": "code",
   "execution_count": 30,
   "metadata": {},
   "outputs": [
    {
     "data": {
      "text/plain": [
       "-102422.48945173463"
      ]
     },
     "execution_count": 30,
     "metadata": {},
     "output_type": "execute_result"
    }
   ],
   "source": [
    "npf.fv(rate = 0.1/12, nper = 10*12, pmt = 500, pv = 0)"
   ]
  },
  {
   "cell_type": "markdown",
   "metadata": {},
   "source": [
    "### 2.2. Introducción a Pandas I."
   ]
  },
  {
   "cell_type": "markdown",
   "metadata": {},
   "source": [
    "**2.2.1.**  Crea un dataframe a partir del diccionario, usando la lista como índice."
   ]
  },
  {
   "cell_type": "code",
   "execution_count": null,
   "metadata": {},
   "outputs": [],
   "source": [
    "data = {'animal': ['cat', 'cat', 'snake', 'dog', 'dog', 'cat', 'snake', 'cat', 'dog', 'dog'],\n",
    "        'age': [2.5, 3, 0.5, np.nan, 5, 2, 4.5, np.nan, 7, 3],\n",
    "        'visits': [1, 3, 2, 3, 2, 3, 1, 1, 2, 1],\n",
    "        'priority': ['yes', 'yes', 'no', 'yes', 'no', 'no', 'no', 'yes', 'no', 'no']}\n",
    "\n",
    "labels = ['a', 'b', 'c', 'd', 'e', 'f', 'g', 'h', 'i', 'j']"
   ]
  },
  {
   "cell_type": "code",
   "execution_count": null,
   "metadata": {},
   "outputs": [],
   "source": [
    "df = pd.DataFrame(data, index=labels)\n",
    "df"
   ]
  },
  {
   "cell_type": "markdown",
   "metadata": {},
   "source": [
    "**2.2.2.**  Muestra una descripción de los datos."
   ]
  },
  {
   "cell_type": "code",
   "execution_count": null,
   "metadata": {},
   "outputs": [],
   "source": [
    "df.describe()"
   ]
  },
  {
   "cell_type": "markdown",
   "metadata": {},
   "source": [
    "**2.2.3.**  Muestra las 2 primeras filas."
   ]
  },
  {
   "cell_type": "code",
   "execution_count": null,
   "metadata": {},
   "outputs": [],
   "source": [
    "df.loc[['a','b']]"
   ]
  },
  {
   "cell_type": "code",
   "execution_count": null,
   "metadata": {},
   "outputs": [],
   "source": [
    "df.iloc[0:2, :]"
   ]
  },
  {
   "cell_type": "markdown",
   "metadata": {},
   "source": [
    "**2.2.4.**  Muestra la tercera columna."
   ]
  },
  {
   "cell_type": "code",
   "execution_count": null,
   "metadata": {},
   "outputs": [],
   "source": [
    "df.iloc[:, 3]"
   ]
  },
  {
   "cell_type": "markdown",
   "metadata": {},
   "source": [
    "**2.2.5.**  Selecciona las columnas animal y age."
   ]
  },
  {
   "cell_type": "code",
   "execution_count": null,
   "metadata": {},
   "outputs": [],
   "source": [
    "df.loc[:, ['animal', 'age']]"
   ]
  },
  {
   "cell_type": "markdown",
   "metadata": {},
   "source": [
    "**2.2.6.**  Elimina la columna visits sin generar un nuevo DF."
   ]
  },
  {
   "cell_type": "code",
   "execution_count": null,
   "metadata": {},
   "outputs": [],
   "source": [
    "del df['animal']"
   ]
  },
  {
   "cell_type": "code",
   "execution_count": null,
   "metadata": {},
   "outputs": [],
   "source": [
    "df.drop('age', axis=1)"
   ]
  },
  {
   "cell_type": "code",
   "execution_count": null,
   "metadata": {},
   "outputs": [],
   "source": [
    "df.drop(['visits'], axis=1, inplace=True)"
   ]
  },
  {
   "cell_type": "code",
   "execution_count": null,
   "metadata": {},
   "outputs": [],
   "source": [
    "df"
   ]
  },
  {
   "cell_type": "markdown",
   "metadata": {},
   "source": [
    "**2.2.8.**  Elimina la fila c."
   ]
  },
  {
   "cell_type": "code",
   "execution_count": null,
   "metadata": {},
   "outputs": [],
   "source": [
    "df = df.drop('c', axis=0)"
   ]
  },
  {
   "cell_type": "markdown",
   "metadata": {},
   "source": [
    "**2.2.9.**  Crea una columna nueva con los valores de 0 a 8"
   ]
  },
  {
   "cell_type": "code",
   "execution_count": null,
   "metadata": {},
   "outputs": [],
   "source": [
    "df['new'] = range(9)\n",
    "df"
   ]
  },
  {
   "cell_type": "markdown",
   "metadata": {},
   "source": [
    "**2.2.10.** Crea a partir de los siguientes datos un Data Frame\n",
    "\n",
    "- planets: \"Mercury\", \"Venus\", \"Earth\", \"Mars\", \"Jupiter\", \"Saturn\", \"Uranus\", \"Neptune\"\n",
    "- type: \"Terrestrial planet\", \"Terrestrial planet\", \"Terrestrial planet\", \"Terrestrial planet\", \"Gas giant\", \"Gas giant\", \"Gas giant\", \"Gas giant\"\n",
    "- diameter 0.382, 0.949, 1, 0.532, 11.209, 9.449, 4.007, 3.883\n",
    "- rotation 58.64, -243.02, 1, 1.03, 0.41, 0.43, -0.72, 0.67\n",
    "- rings FALSE, FALSE, FALSE, FALSE, TRUE, TRUE, TRUE, TRUE\n",
    "\n",
    "Resuelve los siguientes apartados:\n",
    "\n",
    "- Selecciona la información de los tres primeros planetas.\n",
    "- Selecciona la información de los últimos tres planetas.\n",
    "- Selecciona la columna diameter de los últimos seis planetas. \n",
    "- Selecciona sólo los planetas que tienen anillos.\n",
    "- Selecciona los planetas que tienen un diámetro inferior al de la tierra .\n",
    "- Ordena el Data Frame según el diámetro de los planetas, ascendentemente."
   ]
  },
  {
   "cell_type": "code",
   "execution_count": null,
   "metadata": {},
   "outputs": [],
   "source": [
    "a = pd.Series([\"Mercury\", \"Venus\", \"Earth\", \"Mars\", \"Jupiter\", \"Saturn\", \"Uranus\", \"Neptune\"] , name = \"planetas\")\n",
    "b = pd.Series([\"Terrestrial planet\", \"Terrestrial planet\", \"Terrestrial planet\", \"Terrestrial planet\", \"Gas giant\", \"Gas giant\", \"Gas giant\", \"Gas giant\"], name = \"tipo\")\n",
    "c = pd.Series([0.382, 0.949, 1, 0.532, 11.209, 9.449, 4.007, 3.883], name = \"diametro\")\n",
    "d = pd.Series([58.64, -243.02, 1, 1.03, 0.41, 0.43, -0.72, 0.67], name = \"rotacion\")\n",
    "e = pd.Series([False, False, False, False, True, True, True, True], name = \"anillos\")\n",
    "\n",
    "frame = pd.DataFrame([b, c, d, e]).T\n",
    "frame.index = a\n",
    "\n",
    "frame"
   ]
  },
  {
   "cell_type": "code",
   "execution_count": null,
   "metadata": {},
   "outputs": [],
   "source": [
    "# Otra manera de hacerlo\n",
    "\n",
    "a = [\"Mercury\", \"Venus\", \"Earth\", \"Mars\", \"Jupiter\", \"Saturn\", \"Uranus\", \"Neptune\"]\n",
    "b = [\"Terrestrial planet\", \"Terrestrial planet\", \"Terrestrial planet\", \"Terrestrial planet\", \"Gas giant\", \"Gas giant\", \"Gas giant\", \"Gas giant\"]\n",
    "c = [0.382, 0.949, 1, 0.532, 11.209, 9.449, 4.007, 3.883]\n",
    "d = [58.64, -243.02, 1, 1.03, 0.41, 0.43, -0.72, 0.67]\n",
    "e = [False, False, False, False, True, True, True, True]\n",
    "\n",
    "frame = pd.DataFrame([a, b, c, d, e]).T\n",
    "frame"
   ]
  },
  {
   "cell_type": "code",
   "execution_count": null,
   "metadata": {},
   "outputs": [],
   "source": [
    "# Selecciona la información de los tres primeros planetas.\n",
    "\n",
    "frame.loc['Mercury':'Earth',:]"
   ]
  },
  {
   "cell_type": "code",
   "execution_count": null,
   "metadata": {},
   "outputs": [],
   "source": [
    "# Selecciona la información de los últimos tres planetas.\n",
    "\n",
    "frame.iloc[-4:-1,:]"
   ]
  },
  {
   "cell_type": "code",
   "execution_count": null,
   "metadata": {},
   "outputs": [],
   "source": [
    "# Selecciona la columna diameter de los últimos seis planetas. \n",
    "\n",
    "frame.loc['Earth':'Neptune','diametro']"
   ]
  },
  {
   "cell_type": "code",
   "execution_count": null,
   "metadata": {},
   "outputs": [],
   "source": [
    "# Selecciona sólo los planetas que tienen anillos.\n",
    "\n",
    "ind_bool = frame.anillos == True\n",
    "\n",
    "frame[ind_bool] # Recuerda que el índice principal son las filas"
   ]
  },
  {
   "cell_type": "code",
   "execution_count": null,
   "metadata": {},
   "outputs": [],
   "source": [
    "# Selecciona los planetas que tienen un diámetro inferior al de la tierra.\n",
    "\n",
    "ind_bool = frame.diametro < frame.loc['Earth', 'diametro']\n",
    "\n",
    "frame[ind_bool]"
   ]
  },
  {
   "cell_type": "code",
   "execution_count": null,
   "metadata": {},
   "outputs": [],
   "source": [
    "# Ordena el Data Frame según el diámetro de los planetas, ascendentemente.\n",
    "\n",
    "frame.sort_values('diametro')"
   ]
  },
  {
   "cell_type": "markdown",
   "metadata": {},
   "source": [
    "___\n",
    "### 2.3. Introducción a Pandas II."
   ]
  },
  {
   "cell_type": "markdown",
   "metadata": {},
   "source": [
    "**2.3.1.** Usando los siguientes daframe:"
   ]
  },
  {
   "cell_type": "code",
   "execution_count": null,
   "metadata": {},
   "outputs": [],
   "source": [
    "df_a = pd.DataFrame(np.random.randint(1, 10, 10),\n",
    "                    index=np.arange(1, 11))\n",
    "df_a"
   ]
  },
  {
   "cell_type": "code",
   "execution_count": null,
   "metadata": {},
   "outputs": [],
   "source": [
    "df_b = pd.DataFrame(np.random.randint(1, 10, 10),\n",
    "                    index=np.arange(0, 10))\n",
    "df_b"
   ]
  },
  {
   "cell_type": "markdown",
   "metadata": {},
   "source": [
    "Calcula la resta de ambos y explica la diferencia entre usar un relleno = 0 o no."
   ]
  },
  {
   "cell_type": "code",
   "execution_count": null,
   "metadata": {},
   "outputs": [],
   "source": [
    "df_a - df_b"
   ]
  },
  {
   "cell_type": "code",
   "execution_count": null,
   "metadata": {},
   "outputs": [],
   "source": [
    "df_a.sub(df_b, fill_value=0)"
   ]
  },
  {
   "cell_type": "markdown",
   "metadata": {},
   "source": [
    "___\n",
    "### 2.4. Introducción a Pandas III."
   ]
  },
  {
   "cell_type": "markdown",
   "metadata": {},
   "source": [
    "Utilizando el siguiente dataframe:"
   ]
  },
  {
   "cell_type": "code",
   "execution_count": null,
   "metadata": {},
   "outputs": [],
   "source": [
    "df = pd.DataFrame({\"price\": [5,2,3,1,4,5,6,7,8,3,4,8,9],\n",
    "                   \"hours\"    :[1,9,6,5,3,9,2,9,1,7,4,2,2],\n",
    "                   \"happiness\"   :[2,1,3,2,3,1,2,3,1,2,2,1,3],\n",
    "                   \"caffienated\" :[0,0,1,1,0,0,0,0,1,1,0,1,0]})"
   ]
  },
  {
   "cell_type": "markdown",
   "metadata": {},
   "source": [
    "**2.4.1.** \n",
    "\n",
    "- Calcula la media del precio.\n",
    "- Calcula la mutltiplicación de price x hours."
   ]
  },
  {
   "cell_type": "code",
   "execution_count": null,
   "metadata": {},
   "outputs": [],
   "source": [
    "df.mean()"
   ]
  },
  {
   "cell_type": "code",
   "execution_count": null,
   "metadata": {},
   "outputs": [],
   "source": [
    "df.price.mean()"
   ]
  },
  {
   "cell_type": "code",
   "execution_count": null,
   "metadata": {},
   "outputs": [],
   "source": [
    "df.price*df.hours"
   ]
  },
  {
   "cell_type": "markdown",
   "metadata": {},
   "source": [
    "**2.4.2.** En bikes.csv encontrarás información agregada por horas de un sistema de alquiler de bicicletas (parecido al servicio BiciMad). \n",
    "\n",
    "Las variables del  dataset   son las siguientes:  \n",
    "\n",
    "- date:  fecha (en formato yyyy­mm­dd).  \n",
    "- season:  estación del año. Los valores son:  \n",
    "    o\t1 (winter)  \n",
    "    o\t2 (spring)  \n",
    "    o\t3 (summer)  \n",
    "    o\t4 (fall)  \n",
    "- hour:  la hora del día (0 a 23).  \n",
    "- is.holiday:  1 si es día festivo, 0 en caso contrario.  \n",
    "- weekday:  día de la semana. Los valores son:  \n",
    "o\t0 (Sunday)  \n",
    "o\t1 (Monday)  \n",
    "o\t2 (Tuesday)  \n",
    "o\t3 (Wednesday)  \n",
    "o\t4 (Thursday)  \n",
    "o\t5 (Friday)  \n",
    "o\t6 (Saturday)  \n",
    "- is.workingday:  si el día no es ni fin de semana ni vacaciones 1, en caso contrario 0.  \n",
    "- weathersit:  variable categórica con los siguientes valores:  \n",
    "o\t1: Clear, Few clouds, Partly cloudy, cloudy  \n",
    "o\t2: Mist + Cloudy, Mist + Broken clouds, Mist + Few clouds, Mist  \n",
    "o\t3: Light Snow, Light Rain + Thunderstorm + Scattered clouds, Light Rain + Scattered clouds  \n",
    "o\t4: Heavy Rain + Ice Pallets + Thunderstorm + Mist, Snow + Fog  \n",
    "- temp:  temperatura en grados Celsius.  \n",
    "- atemp:  sensación térmica en grados Celsius.  \n",
    "- hum:  humedad.  \n",
    "- windspeed:  velocidad del viento.  \n",
    "- casual:  número de alquileres de usuarios no registrados en el servicio.  \n",
    "- registered:  número de alquileres de usuarios registrados en el servicio. \n",
    "\n",
    "Carga el csv y asegúrate que es un dataframe"
   ]
  },
  {
   "cell_type": "code",
   "execution_count": null,
   "metadata": {},
   "outputs": [],
   "source": [
    "bicis_df = pd.read_csv('bikes.csv') "
   ]
  },
  {
   "cell_type": "code",
   "execution_count": null,
   "metadata": {},
   "outputs": [],
   "source": [
    "type(bicis_df)"
   ]
  },
  {
   "cell_type": "code",
   "execution_count": null,
   "metadata": {},
   "outputs": [],
   "source": [
    "bicis_df.head(5)"
   ]
  },
  {
   "cell_type": "markdown",
   "metadata": {},
   "source": [
    "**2.4.3.** Calcula el número medio de usuarios registrados por día de la semana"
   ]
  },
  {
   "cell_type": "code",
   "execution_count": null,
   "metadata": {},
   "outputs": [],
   "source": [
    "usu_medio = list()\n",
    "\n",
    "for dia in range(7):\n",
    "    \n",
    "    respuesta = bicis_df.loc[bicis_df.weekday == dia,:].registered.mean()\n",
    "    usu_medio.append(f'Día {dia} número medio de usuarios {int(respuesta)}')\n",
    "\n",
    "usu_medio"
   ]
  },
  {
   "cell_type": "markdown",
   "metadata": {},
   "source": [
    "**2.4.4.** Ordena de menor a mayor las temperaturas máximas de cada estación"
   ]
  },
  {
   "cell_type": "code",
   "execution_count": null,
   "metadata": {},
   "outputs": [],
   "source": [
    "temperaturas = list()\n",
    "\n",
    "for est in range(1, 5):\n",
    "    \n",
    "    solucion = bicis_df.loc[bicis_df.season == est, 'temp'].max()\n",
    "    temperaturas.append(solucion)\n",
    "    \n",
    "temperaturas.sort()\n",
    "temperaturas"
   ]
  },
  {
   "cell_type": "markdown",
   "metadata": {},
   "source": [
    "**2.4.5.** Calcula el número total de usuarios (registered + casual) en días festivos y no festivos."
   ]
  },
  {
   "cell_type": "code",
   "execution_count": null,
   "metadata": {},
   "outputs": [],
   "source": [
    "bicis_df.columns = ['date', 'season', 'hour', 'is_holiday', 'weekday', 'is_workingday', 'weathersit', 'temp', 'atemp', 'hum', 'windspeed', 'casual', 'registered']\n",
    "bicis_df.head(5)"
   ]
  },
  {
   "cell_type": "code",
   "execution_count": null,
   "metadata": {},
   "outputs": [],
   "source": [
    "tot_usu_fest = bicis_df.loc[bicis_df.is_holiday == 1,['casual', 'registered']].sum()\n",
    "tot_usu_no_fest = bicis_df.loc[bicis_df.is_holiday == 0,['casual', 'registered']].sum()\n",
    "\n",
    "print(tot_usu_fest)\n",
    "print(tot_usu_no_fest)"
   ]
  },
  {
   "cell_type": "markdown",
   "metadata": {},
   "source": [
    "**2.4.6.** Calcula el día que se produjeron el mayor número de alquileres casuales."
   ]
  },
  {
   "cell_type": "code",
   "execution_count": null,
   "metadata": {},
   "outputs": [],
   "source": [
    "bicis_df.loc[bicis_df.casual == bicis_df.casual.max(),'date']"
   ]
  },
  {
   "cell_type": "markdown",
   "metadata": {},
   "source": [
    "**2.4.7.** Calcula el ratio de alquileres registrados/casuales por hora en verano."
   ]
  },
  {
   "cell_type": "code",
   "execution_count": null,
   "metadata": {},
   "outputs": [],
   "source": [
    "ratio_hora = list()\n",
    "\n",
    "for hora in range(24):\n",
    "    casual, registered = bicis_df.loc[(bicis_df.season == 3) & (bicis_df.hour == hora), ['casual', 'registered']].sum()\n",
    "    ratio_hora.append(f' Hora {hora}, ratio = {registered / casual}')\n",
    "\n",
    "ratio_hora"
   ]
  },
  {
   "cell_type": "markdown",
   "metadata": {},
   "source": [
    "**2.4.8.** Para todos los lunes festivos calcular el número total de alquileres registrados, temperatura media, humedad máxima y velocidad del viento mínima."
   ]
  },
  {
   "cell_type": "code",
   "execution_count": null,
   "metadata": {},
   "outputs": [],
   "source": [
    "lunes_festivos = bicis_df.loc[(bicis_df.weekday == 1) & (bicis_df.is_holiday == 1),:]\n",
    "\n",
    "lunes_festivos.head(5)"
   ]
  },
  {
   "cell_type": "code",
   "execution_count": null,
   "metadata": {},
   "outputs": [],
   "source": [
    "num_total_alq = lunes_festivos.registered.sum()\n",
    "\n",
    "tem_media = lunes_festivos.temp.mean()\n",
    "\n",
    "hum_max = lunes_festivos.hum.max()\n",
    "\n",
    "vel_viento_min = lunes_festivos.windspeed.min()\n",
    "\n",
    "f'El número total de alquileres registrados fue {num_total_alq}, la temperatura media {round(tem_media,2)}, la humedad máxima {hum_max} y la velocidad del viento mínima {vel_viento_min}'"
   ]
  },
  {
   "cell_type": "markdown",
   "metadata": {},
   "source": [
    "### 2.5. Visualización de datos."
   ]
  },
  {
   "cell_type": "markdown",
   "metadata": {},
   "source": [
    "**2.5.1.** Usando:"
   ]
  },
  {
   "cell_type": "code",
   "execution_count": null,
   "metadata": {},
   "outputs": [],
   "source": [
    "x = np.arange(0,100)\n",
    "y = x*2\n",
    "z = x**2"
   ]
  },
  {
   "cell_type": "markdown",
   "metadata": {},
   "source": [
    "Crea el gráfico de x contra y."
   ]
  },
  {
   "cell_type": "code",
   "execution_count": null,
   "metadata": {},
   "outputs": [],
   "source": [
    "plt.plot(x, y)"
   ]
  },
  {
   "cell_type": "markdown",
   "metadata": {},
   "source": [
    "**2.5.2.** Crea un gráfico de dos columnas y una fila con (x, y) y (x, z), añade una leyende a cada gráfico y utiliza un estilo distinto de línea y marker para cada uno."
   ]
  },
  {
   "cell_type": "code",
   "execution_count": null,
   "metadata": {},
   "outputs": [],
   "source": [
    "fig, (ax_a, ax_b) = plt.subplots(1, 2)\n",
    "ax_a.plot(x, y)\n",
    "ax_b.plot(x, z)"
   ]
  },
  {
   "cell_type": "markdown",
   "metadata": {},
   "source": [
    "**2.5.3.** Aumenta el gráfico anterior de tamaño."
   ]
  },
  {
   "cell_type": "code",
   "execution_count": null,
   "metadata": {},
   "outputs": [],
   "source": [
    "fig, (ax_a, ax_b) = plt.subplots(1, 2, figsize=(10,7))\n",
    "ax_a.plot(x, y)\n",
    "ax_b.plot(x, z)"
   ]
  },
  {
   "cell_type": "markdown",
   "metadata": {},
   "source": [
    "**2.5.4.** Guardalo en un fichero."
   ]
  },
  {
   "cell_type": "code",
   "execution_count": null,
   "metadata": {},
   "outputs": [],
   "source": [
    "fig.savefig('fig.png')"
   ]
  },
  {
   "cell_type": "markdown",
   "metadata": {},
   "source": [
    "___\n",
    "### 2.6. Adquisición y guardado de datos."
   ]
  },
  {
   "cell_type": "markdown",
   "metadata": {},
   "source": [
    "**2.6.1.** Lee los datos del fichero train.txt."
   ]
  },
  {
   "cell_type": "code",
   "execution_count": null,
   "metadata": {},
   "outputs": [],
   "source": [
    "data = pd.read_csv('train.csv')"
   ]
  },
  {
   "cell_type": "markdown",
   "metadata": {},
   "source": [
    "**2.6.2.** Cambia algunos de los datos y escribe el fichero train_mod.csv."
   ]
  },
  {
   "cell_type": "code",
   "execution_count": null,
   "metadata": {},
   "outputs": [],
   "source": [
    "data.iloc[2:20, 5:10] = 0"
   ]
  },
  {
   "cell_type": "code",
   "execution_count": null,
   "metadata": {},
   "outputs": [],
   "source": [
    "data.to_csv('train_mod.csv')"
   ]
  }
 ],
 "metadata": {
  "kernelspec": {
   "display_name": "Python 3",
   "language": "python",
   "name": "python3"
  },
  "language_info": {
   "codemirror_mode": {
    "name": "ipython",
    "version": 3
   },
   "file_extension": ".py",
   "mimetype": "text/x-python",
   "name": "python",
   "nbconvert_exporter": "python",
   "pygments_lexer": "ipython3",
   "version": "3.7.7"
  }
 },
 "nbformat": 4,
 "nbformat_minor": 4
}
